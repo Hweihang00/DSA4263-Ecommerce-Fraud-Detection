{
  "cells": [
    {
      "cell_type": "markdown",
      "metadata": {
        "id": "Jsnk_5rKj8DZ"
      },
      "source": [
        "# DSA4263 E-Commerce Fraud Analysis"
      ]
    },
    {
      "cell_type": "markdown",
      "metadata": {
        "id": "reWP-wV-kl3u"
      },
      "source": [
        "## Import Packages"
      ]
    },
    {
      "cell_type": "code",
      "execution_count": 3,
      "metadata": {},
      "outputs": [
        {
          "name": "stdout",
          "output_type": "stream",
          "text": [
            "Collecting pandas\n",
            "  Downloading pandas-2.2.1-cp311-cp311-macosx_11_0_arm64.whl.metadata (19 kB)\n",
            "Collecting numpy\n",
            "  Downloading numpy-1.26.4-cp311-cp311-macosx_11_0_arm64.whl.metadata (114 kB)\n",
            "\u001b[2K     \u001b[90m━━━━━━━━━━━━━━━━━━━━━━━━━━━━━━━━━━━━━━━\u001b[0m \u001b[32m114.8/114.8 kB\u001b[0m \u001b[31m3.5 MB/s\u001b[0m eta \u001b[36m0:00:00\u001b[0m\n",
            "\u001b[?25hRequirement already satisfied: python-dateutil>=2.8.2 in /Users/weihanghan/Library/Python/3.11/lib/python/site-packages (from pandas) (2.8.2)\n",
            "Collecting pytz>=2020.1 (from pandas)\n",
            "  Downloading pytz-2024.1-py2.py3-none-any.whl.metadata (22 kB)\n",
            "Collecting tzdata>=2022.7 (from pandas)\n",
            "  Downloading tzdata-2024.1-py2.py3-none-any.whl.metadata (1.4 kB)\n",
            "Requirement already satisfied: six>=1.5 in /Users/weihanghan/Library/Python/3.11/lib/python/site-packages (from python-dateutil>=2.8.2->pandas) (1.16.0)\n",
            "Downloading pandas-2.2.1-cp311-cp311-macosx_11_0_arm64.whl (11.3 MB)\n",
            "\u001b[2K   \u001b[90m━━━━━━━━━━━━━━━━━━━━━━━━━━━━━━━━━━━━━━━━\u001b[0m \u001b[32m11.3/11.3 MB\u001b[0m \u001b[31m10.2 MB/s\u001b[0m eta \u001b[36m0:00:00\u001b[0m00:01\u001b[0m00:01\u001b[0m\n",
            "\u001b[?25hDownloading numpy-1.26.4-cp311-cp311-macosx_11_0_arm64.whl (14.0 MB)\n",
            "\u001b[2K   \u001b[90m━━━━━━━━━━━━━━━━━━━━━━━━━━━━━━━━━━━━━━━━\u001b[0m \u001b[32m14.0/14.0 MB\u001b[0m \u001b[31m17.0 MB/s\u001b[0m eta \u001b[36m0:00:00\u001b[0m00:01\u001b[0m00:01\u001b[0m\n",
            "\u001b[?25hDownloading pytz-2024.1-py2.py3-none-any.whl (505 kB)\n",
            "\u001b[2K   \u001b[90m━━━━━━━━━━━━━━━━━━━━━━━━━━━━━━━━━━━━━━━━\u001b[0m \u001b[32m505.5/505.5 kB\u001b[0m \u001b[31m17.1 MB/s\u001b[0m eta \u001b[36m0:00:00\u001b[0m\n",
            "\u001b[?25hDownloading tzdata-2024.1-py2.py3-none-any.whl (345 kB)\n",
            "\u001b[2K   \u001b[90m━━━━━━━━━━━━━━━━━━━━━━━━━━━━━━━━━━━━━━━━\u001b[0m \u001b[32m345.4/345.4 kB\u001b[0m \u001b[31m17.6 MB/s\u001b[0m eta \u001b[36m0:00:00\u001b[0m\n",
            "\u001b[?25hInstalling collected packages: pytz, tzdata, numpy, pandas\n",
            "Successfully installed numpy-1.26.4 pandas-2.2.1 pytz-2024.1 tzdata-2024.1\n",
            "\n",
            "\u001b[1m[\u001b[0m\u001b[34;49mnotice\u001b[0m\u001b[1;39;49m]\u001b[0m\u001b[39;49m A new release of pip is available: \u001b[0m\u001b[31;49m23.3.1\u001b[0m\u001b[39;49m -> \u001b[0m\u001b[32;49m24.0\u001b[0m\n",
            "\u001b[1m[\u001b[0m\u001b[34;49mnotice\u001b[0m\u001b[1;39;49m]\u001b[0m\u001b[39;49m To update, run: \u001b[0m\u001b[32;49mpython3.11 -m pip install --upgrade pip\u001b[0m\n",
            "Note: you may need to restart the kernel to use updated packages.\n"
          ]
        }
      ],
      "source": [
        "pip install pandas numpy"
      ]
    },
    {
      "cell_type": "code",
      "execution_count": 4,
      "metadata": {
        "id": "H6rdvqxtkN3H"
      },
      "outputs": [],
      "source": [
        "import pandas as pd\n",
        "import numpy as np"
      ]
    },
    {
      "cell_type": "markdown",
      "metadata": {
        "id": "Vj9KdkLNk9KD"
      },
      "source": [
        "## Data Loading"
      ]
    },
    {
      "cell_type": "code",
      "execution_count": 5,
      "metadata": {
        "id": "vcXYAQ6xlIHJ"
      },
      "outputs": [],
      "source": [
        "fraud_data = pd.read_csv(\"data/Fraud_Data.csv\")"
      ]
    },
    {
      "cell_type": "code",
      "execution_count": 6,
      "metadata": {},
      "outputs": [
        {
          "name": "stdout",
          "output_type": "stream",
          "text": [
            "        user_id          signup_time        purchase_time  purchase_value  \\\n",
            "0         22058  2015-02-24 22:55:49  2015-04-18 02:47:11              34   \n",
            "1        333320  2015-06-07 20:39:50  2015-06-08 01:38:54              16   \n",
            "2          1359  2015-01-01 18:52:44  2015-01-01 18:52:45              15   \n",
            "3        150084  2015-04-28 21:13:25  2015-05-04 13:54:50              44   \n",
            "4        221365  2015-07-21 07:09:52  2015-09-09 18:40:53              39   \n",
            "...         ...                  ...                  ...             ...   \n",
            "151107   345170  2015-01-27 03:03:34  2015-03-29 00:30:47              43   \n",
            "151108   274471  2015-05-15 17:43:29  2015-05-26 12:24:39              35   \n",
            "151109   368416  2015-03-03 23:07:31  2015-05-20 07:07:47              40   \n",
            "151110   207709  2015-07-09 20:06:07  2015-09-07 09:34:46              46   \n",
            "151111   138208  2015-06-10 07:02:20  2015-07-21 02:03:53              20   \n",
            "\n",
            "            device_id  source browser sex  age    ip_address  class  \n",
            "0       QVPSPJUOCKZAR     SEO  Chrome   M   39  7.327584e+08      0  \n",
            "1       EOGFQPIZPYXFZ     Ads  Chrome   F   53  3.503114e+08      0  \n",
            "2       YSSKYOSJHPPLJ     SEO   Opera   M   53  2.621474e+09      1  \n",
            "3       ATGTXKYKUDUQN     SEO  Safari   M   41  3.840542e+09      0  \n",
            "4       NAUITBZFJKHWW     Ads  Safari   M   45  4.155831e+08      0  \n",
            "...               ...     ...     ...  ..  ...           ...    ...  \n",
            "151107  XPSKTWGPWINLR     SEO  Chrome   M   28  3.451155e+09      1  \n",
            "151108  LYSFABUCPCGBA     SEO  Safari   M   32  2.439047e+09      0  \n",
            "151109  MEQHCSJUBRBFE     SEO      IE   F   26  2.748471e+09      0  \n",
            "151110  CMCXFGRHYSTVJ     SEO  Chrome   M   37  3.601175e+09      0  \n",
            "151111  ZINIADFCLHYPG  Direct      IE   M   38  4.103825e+09      0  \n",
            "\n",
            "[151112 rows x 11 columns]\n"
          ]
        }
      ],
      "source": [
        "print(fraud_data)"
      ]
    }
  ],
  "metadata": {
    "colab": {
      "provenance": []
    },
    "kernelspec": {
      "display_name": "Python 3",
      "name": "python3"
    },
    "language_info": {
      "codemirror_mode": {
        "name": "ipython",
        "version": 3
      },
      "file_extension": ".py",
      "mimetype": "text/x-python",
      "name": "python",
      "nbconvert_exporter": "python",
      "pygments_lexer": "ipython3",
      "version": "3.11.7"
    }
  },
  "nbformat": 4,
  "nbformat_minor": 0
}
